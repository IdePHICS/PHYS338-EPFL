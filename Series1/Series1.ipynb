{
  "cells": [
    {
      "cell_type": "code",
      "execution_count": null,
      "metadata": {
        "id": "IjbFwbFD3-QD"
      },
      "outputs": [],
      "source": [
        "import matplotlib.pyplot as plt\n",
        "import numpy as np\n",
        "import math"
      ]
    },
    {
      "cell_type": "markdown",
      "metadata": {},
      "source": [
        "## Stirling Approximation"
      ]
    },
    {
      "cell_type": "code",
      "execution_count": null,
      "metadata": {
        "colab": {
          "base_uri": "https://localhost:8080/",
          "height": 607
        },
        "id": "OpihLpbh3jYz",
        "outputId": "61473abc-1bad-48bf-9626-38edeaba02f5"
      },
      "outputs": [],
      "source": [
        "# Stirling's approximation for factorial\n",
        "def stirling_approximation(n):\n",
        "    raise NotImplementedError\n",
        "\n",
        "# Factorial using math library\n",
        "def real_factorial(n):\n",
        "    raise NotImplementedError\n",
        "\n",
        "# Values of n to compare\n",
        "n_values = np.arange(1, 21)\n",
        "\n",
        "# Compute factorials and Stirling approximations\n",
        "real_factorials = [real_factorial(n) for n in n_values]\n",
        "stirling_approximations = [stirling_approximation(n) for n in n_values]\n",
        "\n",
        "# Calculate relative errors\n",
        "relative_errors = [abs(stirling_approximations[i] - real_factorials[i]) / real_factorials[i] for i in range(len(n_values))]\n"
      ]
    },
    {
      "cell_type": "code",
      "execution_count": null,
      "metadata": {},
      "outputs": [],
      "source": [
        "# Plotting Real Factorial vs Stirling's Approximation\n",
        "plt.figure(figsize=(8, 6))\n",
        "\n",
        "# Plot real factorial and Stirling approximation\n",
        "plt.subplot(2, 1, 1)\n",
        "plt.plot(n_values, real_factorials, label='Real Factorial', marker='o')\n",
        "plt.plot(n_values, stirling_approximations, label=\"Stirling's Approximation\", marker='x')\n",
        "plt.title(\"Comparison of Real Factorial and Stirling's Approximation\")\n",
        "plt.xlabel('n')\n",
        "plt.ylabel('Value')\n",
        "plt.yscale('log')  # Using log scale to handle large factorial values\n",
        "plt.legend()\n",
        "plt.grid(True)\n",
        "\n",
        "# Plot relative error\n",
        "plt.subplot(2, 1, 2)\n",
        "plt.plot(n_values, relative_errors, label='Relative Error', marker='d', color='r')\n",
        "plt.title(\"Relative Error of Stirling's Approximation\")\n",
        "plt.xlabel('n')\n",
        "plt.ylabel('Relative Error')\n",
        "plt.grid(True)\n",
        "\n",
        "plt.tight_layout()\n",
        "plt.show()"
      ]
    },
    {
      "cell_type": "markdown",
      "metadata": {},
      "source": [
        "## Legendre-Frenchel Transformation"
      ]
    },
    {
      "cell_type": "code",
      "execution_count": null,
      "metadata": {
        "colab": {
          "base_uri": "https://localhost:8080/",
          "height": 607
        },
        "id": "xgUZKsMd5L3c",
        "outputId": "cec6727a-8187-492d-f595-16d8a40af1c0"
      },
      "outputs": [],
      "source": [
        "from scipy.optimize import minimize_scalar\n",
        "\n",
        "def f_non_convex(x):\n",
        "    return x**4 - x**2\n",
        "\n",
        "f = f_non_convex\n",
        "\n",
        "def legendre_fenchel_transform(p):\n",
        "    raise NotImplementedError\n",
        "\n",
        "def double_legendre_fenchel_transform(x):\n",
        "    raise NotImplementedError\n",
        "\n",
        "x_values = np.linspace(-1.5, 1.5, 1000)\n",
        "f_values = f(x_values)\n",
        "\n",
        "p_values = np.linspace(-1.5, 1.5, 1000)\n",
        "f_star_values = [legendre_fenchel_transform(p) for p in p_values]\n",
        "\n",
        "f_star_star_values = [double_legendre_fenchel_transform(x) for x in x_values]"
      ]
    },
    {
      "cell_type": "code",
      "execution_count": null,
      "metadata": {
        "id": "uf1M-ukv5_Px"
      },
      "outputs": [],
      "source": [
        "plt.figure(figsize=(8, 6))\n",
        "\n",
        "plt.subplot(2, 1, 1)\n",
        "plt.plot(x_values, f_values, label='Original Function $f(x)$', color='b')\n",
        "plt.plot(x_values, f_star_star_values, label='Double Transform $f^{**}(x)$', color='g', linestyle='--')\n",
        "plt.title('Original Space')\n",
        "plt.xlabel('x')\n",
        "plt.ylabel('$f(x)$')\n",
        "plt.grid(True)\n",
        "plt.legend()\n",
        "\n",
        "plt.subplot(2, 1, 2)\n",
        "plt.plot(p_values, f_star_values, label=\"Legendre-Fenchel Transform $f^*(p)$\", color='r')\n",
        "plt.title(\"Legendre-Fenchel Transformation\")\n",
        "plt.xlabel('p')\n",
        "plt.ylabel('$f^*(p)$')\n",
        "plt.grid(True)\n",
        "plt.legend()\n",
        "\n",
        "plt.tight_layout()\n",
        "plt.show()"
      ]
    },
    {
      "cell_type": "code",
      "execution_count": null,
      "metadata": {},
      "outputs": [],
      "source": []
    },
    {
      "cell_type": "code",
      "execution_count": null,
      "metadata": {},
      "outputs": [],
      "source": []
    }
  ],
  "metadata": {
    "colab": {
      "provenance": []
    },
    "kernelspec": {
      "display_name": "Python 3",
      "name": "python3"
    },
    "language_info": {
      "codemirror_mode": {
        "name": "ipython",
        "version": 3
      },
      "file_extension": ".py",
      "mimetype": "text/x-python",
      "name": "python",
      "nbconvert_exporter": "python",
      "pygments_lexer": "ipython3",
      "version": "3.12.3"
    }
  },
  "nbformat": 4,
  "nbformat_minor": 0
}
