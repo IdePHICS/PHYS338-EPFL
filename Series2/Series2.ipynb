{
  "cells": [
    {
      "cell_type": "code",
      "execution_count": 1,
      "metadata": {
        "id": "IjbFwbFD3-QD"
      },
      "outputs": [],
      "source": [
        "import numpy as np\n",
        "import matplotlib.pyplot as plt\n",
        "import math\n",
        "from scipy.stats import binom"
      ]
    },
    {
      "cell_type": "markdown",
      "metadata": {},
      "source": [
        "## Série 2 - Exercise 1 : Petite et Grandes Deviationes"
      ]
    },
    {
      "cell_type": "markdown",
      "metadata": {},
      "source": [
        "##### Question 5a : Vérifier numériquement que la loi de probablitie de la question $1$ se compote bien de cette facon a grand $N$. La comparer avec une distirbution Gaussienne\" La Gaussienne est elle une bonne approximation pour les fluctuation typiques? Et pour les fluctuation large?"
      ]
    },
    {
      "cell_type": "markdown",
      "metadata": {},
      "source": [
        "We first define the functions to:\n",
        "- Simulate the coin tosses\n",
        "- Compute the Binomial probability "
      ]
    },
    {
      "cell_type": "code",
      "execution_count": 2,
      "metadata": {
        "colab": {
          "base_uri": "https://localhost:8080/",
          "height": 607
        },
        "id": "OpihLpbh3jYz",
        "outputId": "61473abc-1bad-48bf-9626-38edeaba02f5"
      },
      "outputs": [],
      "source": [
        "def simulate_coin_tosses(num_tosses, num_experiments, p):\n",
        "    \"\"\"\n",
        "    Simulate a series of coin tosses.\n",
        "    \n",
        "    Parameters:\n",
        "    num_tosses (int): Number of coin tosses in each experiment.\n",
        "    num_experiments (int): Number of experiments to run.\n",
        "    p (float): Probability of heads.\n",
        "    \n",
        "    Returns:\n",
        "    np.ndarray: Array of shape (num_experiments,) containing the number of heads in each experiment.\n",
        "    \"\"\"\n",
        "    raise NotImplementedError\n",
        "\n",
        "def theoretical_binomial_pmf(k, n, p):\n",
        "    \"\"\"\n",
        "    Returns the probability of having a Binomial random variable with parameters n and p equal to k.\n",
        "    \n",
        "    Parameters:\n",
        "    k (int): Number of heads.\n",
        "    n (int): Number of coin tosses.\n",
        "    p (float): Probability of heads.\n",
        "    \n",
        "    Returns:\n",
        "    float: Probability of getting k heads in n coin tosses.\n",
        "    \"\"\"\n",
        "    raise NotImplementedError"
      ]
    },
    {
      "cell_type": "markdown",
      "metadata": {},
      "source": [
        "We then use the functions with the parameters $n=100$, $p=0.2$, $N_{experiments}=1000$.\n",
        "\n",
        "Compare the mean and the variance of the simulations to the theoretical ones"
      ]
    },
    {
      "cell_type": "code",
      "execution_count": null,
      "metadata": {},
      "outputs": [],
      "source": [
        "num_tosses = 30\n",
        "num_experiments = 20_000\n",
        "p = 0.2  # probability of heads\n",
        "\n",
        "results = simulate_coin_tosses(num_tosses, num_experiments, p)\n",
        "\n",
        "x = np.arange(0, num_tosses + 1)\n",
        "theoretical = [theoretical_binomial_pmf(k, num_tosses, p) for k in x]\n",
        "\n",
        "theo_mean = ### YOUR CODE HERE ###\n",
        "theo_var = ### YOUR CODE HERE ###\n",
        "# Print some statistics\n",
        "print(f\"Mean of simulated results: {np.mean(results):.2f}\")\n",
        "print(f\"Theoretical mean: {theo_mean:.2f}\")\n",
        "print(f\"Variance of simulated results: {np.var(results):.2f}\")\n",
        "print(f\"Theoretical variance: {theo_var:.2f}\")"
      ]
    },
    {
      "cell_type": "markdown",
      "metadata": {},
      "source": [
        "Let us now plot the histogram and compare it to the theoretical curve and to a gaussian with the same mean and variance"
      ]
    },
    {
      "cell_type": "code",
      "execution_count": null,
      "metadata": {},
      "outputs": [],
      "source": [
        "# Create bin edges centered on integer values\n",
        "bin_edges = np.arange(-0.5, num_tosses + 1.5)\n",
        "\n",
        "# Plot histogram of empirical results\n",
        "# The funciton plt.hist automatically counts for each bin\n",
        "# The parameter density=True normalizes the histogram so that we can compare it with the theoretical distribution\n",
        "plt.hist(results, bins=bin_edges, density=True, alpha=0.7, color='skyblue', label=f'Empirical (N={num_experiments})')\n",
        "\n",
        "# Plot theoretical Binomial distribution\n",
        "\n",
        "x_gauss = ### YOUR CODE HERE ###\n",
        "gaussian = ### YOUR CODE HERE ###\n",
        "\n",
        "plt.plot(x, theoretical, 'ro-', label='Theoretical')\n",
        "plt.plot(x_gauss, gaussian, 'g-', label='Gaussian')\n",
        "\n",
        "plt.title(f'Coin Toss Simulation vs Binomial Distribution\\n(n={num_tosses}, p={p})')\n",
        "plt.xlabel('$k$')\n",
        "plt.ylabel('$P(X = k)$')\n",
        "plt.legend()\n",
        "plt.grid(True)\n",
        "plt.show()"
      ]
    },
    {
      "cell_type": "markdown",
      "metadata": {},
      "source": [
        "In logscale, one can look at the large deviations"
      ]
    },
    {
      "cell_type": "code",
      "execution_count": null,
      "metadata": {},
      "outputs": [],
      "source": [
        "# Plot the same data in log scale\n",
        "plt.plot(x, theoretical, 'ro-', label='Theoretical')\n",
        "plt.plot(x_gauss, gaussian, 'g-', label='Gaussian')\n",
        "plt.axvline(theo_mean, color='k', linestyle='--', label='Mean')\n",
        "plt.axvline(theo_mean-np.sqrt(theo_var), color='k', linestyle='-.')\n",
        "plt.axvline(theo_mean+np.sqrt(theo_var), color='k', linestyle='-.')\n",
        "plt.yscale('log')\n",
        "plt.legend()"
      ]
    },
    {
      "cell_type": "markdown",
      "metadata": {},
      "source": [
        "##### Question 5b : Vérifier numériquement que l'on peut bien observer cette fonction de grande déviation en simulation."
      ]
    },
    {
      "cell_type": "markdown",
      "metadata": {},
      "source": [
        "We first define the functions to:\n",
        "- Compute the Large Deviation Function for Bernoulli Variables,\n",
        "- Compute the rate at finite $n$, given the number of occurrences $k$."
      ]
    },
    {
      "cell_type": "code",
      "execution_count": 6,
      "metadata": {},
      "outputs": [],
      "source": [
        "def bernoulli_ldf(x, p):\n",
        "    \"\"\"Theoretical Large Deviation Function for Bernoulli RV\"\"\"\n",
        "    raise NotImplementedError\n",
        "\n",
        "def calculate_empirical_ldf(N, p, k_values):\n",
        "    \"\"\"Calculate -1/N log P(sum = k) for given k values\"\"\"\n",
        "    raise NotImplementedError"
      ]
    },
    {
      "cell_type": "markdown",
      "metadata": {},
      "source": [
        "We then plot the theoretical Large Deviation Function for $N$ large and compare it to \n",
        "- the one at a finite number of tosses $n$\n",
        "- the one computed empirically with $N=10^7$ tosses"
      ]
    },
    {
      "cell_type": "code",
      "execution_count": null,
      "metadata": {},
      "outputs": [],
      "source": [
        "# Parameters\n",
        "n_tos = int(1e7)\n",
        "Ns = [10, 30, 100]  # Number of Bernoulli trials\n",
        "p = 0.2   # Probability of success for each trial\n",
        "\n",
        "palette = plt.get_cmap('tab10').colors\n",
        "\n",
        "# Plot LDF comparison\n",
        "# Calculate theoretical LDF\n",
        "x = np.linspace(0., 1., 1000)\n",
        "theoretical_ldf = bernoulli_ldf(x, p)\n",
        "\n",
        "plt.figure(figsize=(10, 6))\n",
        "plt.plot(x, theoretical_ldf, 'k-', label=r'Theoretical ($N=\\infty$) ')\n",
        "\n",
        "for i,N in enumerate(Ns):\n",
        "    # Calculate empirical LDF for integer k values\n",
        "    k_values = np.arange(N + 1)\n",
        "    x_empirical = k_values / N\n",
        "    empirical_ldf = calculate_empirical_ldf(N, p, k_values)\n",
        "\n",
        "    # Plotting\n",
        "    plt.plot(x_empirical, empirical_ldf, '-', label=f'Theoretical (N={N})', color = palette[i])\n",
        "\n",
        "    tosses = ### YOUR CODE HERE ###\n",
        "    \n",
        "    unique, counts = np.unique(tosses, return_counts=True)\n",
        "    phat = counts/n_tos\n",
        "    rate = -np.log(phat)/N\n",
        "    plt.plot(unique/N, rate, 'o', label=f'Empirical (N={N})', color = palette[i])\n",
        "plt.xlabel('x (k/N)')\n",
        "plt.ylabel('I(x)')\n",
        "plt.title(f'LDF Comparison for Bernoulli(p={p}, #Tosses={n_tos})')\n",
        "plt.legend()\n",
        "plt.grid(True, alpha=0.3)\n",
        "\n",
        "# Set y-axis limit to focus on the relevant part of the plot\n",
        "plt.ylim(0, min(plt.ylim()[1], 1))\n",
        "\n",
        "plt.show()"
      ]
    },
    {
      "cell_type": "markdown",
      "metadata": {},
      "source": [
        "## Série 2 - Exercise 2 : Volume de l’hypersphère"
      ]
    },
    {
      "cell_type": "markdown",
      "metadata": {},
      "source": [
        "##### Question 2a : Représenter $V(r)=r^D$, où $0\\le r \\le 1$, pour $D=1,2,10$ et $100$."
      ]
    },
    {
      "cell_type": "code",
      "execution_count": null,
      "metadata": {},
      "outputs": [],
      "source": [
        "r = np.linspace(0, 1, 100)  # Generate 100 points between 0 and 1\n",
        "\n",
        "D_values = [1, 2, 10, 100]  # Values of D\n",
        "\n",
        "plt.figure(figsize=(8, 6))\n",
        "\n",
        "for D in D_values:\n",
        "    V = # Calculate V(r) = r^D\n",
        "    plt.plot(r, V, label=f'D = {D}')\n",
        "\n",
        "plt.title('Plot of V(r) = r^D')\n",
        "plt.xlabel('r')\n",
        "plt.ylabel('V(r)')\n",
        "plt.legend()\n",
        "plt.grid(True)\n",
        "plt.show()"
      ]
    },
    {
      "cell_type": "code",
      "execution_count": null,
      "metadata": {},
      "outputs": [],
      "source": []
    }
  ],
  "metadata": {
    "colab": {
      "provenance": []
    },
    "kernelspec": {
      "display_name": "Python 3",
      "name": "python3"
    },
    "language_info": {
      "codemirror_mode": {
        "name": "ipython",
        "version": 3
      },
      "file_extension": ".py",
      "mimetype": "text/x-python",
      "name": "python",
      "nbconvert_exporter": "python",
      "pygments_lexer": "ipython3",
      "version": "3.10.12"
    }
  },
  "nbformat": 4,
  "nbformat_minor": 0
}
